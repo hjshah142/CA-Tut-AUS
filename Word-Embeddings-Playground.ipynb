{
 "cells": [
  {
   "cell_type": "markdown",
   "metadata": {},
   "source": [
    "<h3>Models available for download:</h3>\n",
    "\n",
    "Google News Word2Vec Model: https://drive.google.com/file/d/0B7XkCwpI5KDYNlNUTTlSS21pQmM/edit\n",
    "<br>\n",
    "GloVe Wikipedia + Gigaword: http://nlp.stanford.edu/data/wordvecs/glove.6B.zip\n",
    "<br><br>\n",
    "API Reference: https://radimrehurek.com/gensim/models/keyedvectors.html\n",
    "<br>\n",
    "<i>*Do not forget to unzip the GloVe model</i>"
   ]
  },
  {
   "cell_type": "code",
   "execution_count": null,
   "metadata": {},
   "outputs": [],
   "source": [
    "from gensim.models import KeyedVectors\n",
    "from gensim.scripts.glove2word2vec import glove2word2vec"
   ]
  },
  {
   "cell_type": "code",
   "execution_count": null,
   "metadata": {},
   "outputs": [],
   "source": [
    "# conversion needed if glove model being used\n",
    "# input file path\n",
    "pathToGloveFile = '/Users/nikitsrivastava/Downloads/glove.6B/glove.6B.300d.txt'\n",
    "# output file path\n",
    "pathToGloveModel = '/Users/nikitsrivastava/Downloads/glove.6B/gensim-glove.6B.300d.txt'\n",
    "# convert existing glove model to word2vec model\n",
    "glove2word2vec(glove_input_file=pathToGloveFile, word2vec_output_file=pathToGloveModel)"
   ]
  },
  {
   "cell_type": "code",
   "execution_count": null,
   "metadata": {},
   "outputs": [],
   "source": [
    "# NOTE: This step usually takes a few minutes depending upon the size of the model\n",
    "# Once loaded, try to re-use the model. Do not run this step frequently, unless really needed.\n",
    "\n",
    "# Path to google news word2vec model\n",
    "pathToW2VModel = '/Users/Downloads/GoogleNews-vectors-negative300.bin.gz'\n",
    "\n",
    "# Comment the below statement if not using google news model\n",
    "# model = KeyedVectors.load_word2vec_format(pathToW2VModel, binary=True)\n",
    "\n",
    "# Comment the below statement if not using glove model\n",
    "model = KeyedVectors.load_word2vec_format(pathToGloveModel, binary=False)\n",
    "\n"
   ]
  },
  {
   "cell_type": "code",
   "execution_count": null,
   "metadata": {},
   "outputs": [],
   "source": [
    "# Access vectors for specific words with a keyed lookup:\n",
    "vector = model['easy']\n",
    "# see the shape of the vector (300,)\n",
    "print(vector.shape)\n",
    "# Processing sentences\n",
    "vectors = [model[x] for x in \"Hi Welcome to the Computational Argumentation Tutorial\".lower().split(' ')]"
   ]
  },
  {
   "cell_type": "code",
   "execution_count": null,
   "metadata": {},
   "outputs": [],
   "source": [
    "model.similarity(\"chair\",\"there\")"
   ]
  },
  {
   "cell_type": "code",
   "execution_count": null,
   "metadata": {},
   "outputs": [],
   "source": [
    "model.most_similar('boy')"
   ]
  },
  {
   "cell_type": "code",
   "execution_count": null,
   "metadata": {},
   "outputs": [],
   "source": [
    "model"
   ]
  },
  {
   "cell_type": "code",
   "execution_count": null,
   "metadata": {},
   "outputs": [],
   "source": [
    "result = model.most_similar(positive=['woman', 'king'], negative=['man'])\n",
    "print(\"{}: {:.4f}\".format(*result[0]))"
   ]
  },
  {
   "cell_type": "code",
   "execution_count": null,
   "metadata": {},
   "outputs": [],
   "source": [
    "model.get_vector(\"hello\")"
   ]
  },
  {
   "cell_type": "code",
   "execution_count": null,
   "metadata": {},
   "outputs": [],
   "source": [
    "model.vocab"
   ]
  },
  {
   "cell_type": "code",
   "execution_count": null,
   "metadata": {},
   "outputs": [],
   "source": []
  }
 ],
 "metadata": {
  "kernelspec": {
   "display_name": "Python 3",
   "language": "python",
   "name": "python3"
  },
  "language_info": {
   "codemirror_mode": {
    "name": "ipython",
    "version": 3
   },
   "file_extension": ".py",
   "mimetype": "text/x-python",
   "name": "python",
   "nbconvert_exporter": "python",
   "pygments_lexer": "ipython3",
   "version": "3.7.3"
  }
 },
 "nbformat": 4,
 "nbformat_minor": 2
}
